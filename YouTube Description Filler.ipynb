{
 "cells": [
  {
   "cell_type": "code",
   "execution_count": 60,
   "id": "276870b5",
   "metadata": {},
   "outputs": [],
   "source": [
    "from string import Template\n",
    "import requests\n",
    "\n",
    "from datetime import datetime"
   ]
  },
  {
   "cell_type": "code",
   "execution_count": 57,
   "id": "5b708538",
   "metadata": {},
   "outputs": [],
   "source": [
    "# Read in the template\n",
    "yt_temp_url = 'https://raw.githubusercontent.com/AlxndrMlk/causal-bandits-podcast/main/templates/yt-desc-temp.txt'\n",
    "r = requests.get(yt_temp_url)\n",
    "templ = Template(r.text)"
   ]
  },
  {
   "cell_type": "code",
   "execution_count": 58,
   "id": "5fc933bd",
   "metadata": {},
   "outputs": [],
   "source": [
    "filled = templ.safe_substitute(\n",
    "    REC_MONTH='Jan',\n",
    "    REC_DAY='01',\n",
    "    REC_YEAR='2024',\n",
    "    REC_CITY='London',\n",
    "    REC_COUNTRY='UK',\n",
    "    EPISODE_HEADLINE='Can we do better in causal AI in 2024?',\n",
    "    EPISODE_DESCRIPTION=\"\"\"In this episode we try to answer the question if it's possible to do better in causal AI in 2024.\n",
    "    \n",
    "It turns out this is not an easy question.\n",
    "    \n",
    "Well, this is what it is...\n",
    "    \n",
    "Ready to dive in?\"\"\",\n",
    "    GUEST_INFO=\"\"\"John Doe is an avid researcher with unknown past. His main contributions are unknown and he co-authored dozens of unknown publications. And that's ok!\"\"\",\n",
    "    GUEST_NAME='John',\n",
    "    GUEST_TWITTER='https://twitter.com/AleksanderMolak',\n",
    "    GUEST_LINKEDIN='https://www.linkedin.com/in/aleksandermolak/',\n",
    "    GUEST_WEB='https://alxndr.io',\n",
    "    EPISODE_LINKS=\"\"\"Books\n",
    "- Molak (2023) - Causal Inference & Discovery in Python (https://amzn.to/3QhsRz4)\n",
    "- Pearl & Mackenzie (2019) - The Book of Why (https://amzn.to/4aC3lhd)\n",
    "- van der Laan & Rose (2011) - Targeted Learning: Causal Inference for Observational and Experimental Data (https://amzn.to/3GYUPv6)\n",
    "\n",
    "Papers\n",
    "- Athey & Imbens (2016) - Recursive partitioning for heterogeneous causal effects (https://www.pnas.org/doi/abs/10.1073/pnas.1510489113)\n",
    "- Curth et al. (2021) - Really Doing Great at Estimating CATE? A Critical Look at ML Benchmarking Practices in Treatment Effect Estimation (https://openreview.net/pdf?id=FQLzQqGEAH)\n",
    "- Curth et al. (2023) - A U-turn on Double Descent: Rethinking Parameter Counting in Statistical Learning (https://arxiv.org/pdf/2310.18988.pdf)\n",
    "\n",
    "Web\n",
    "- The van der Schaar Lab, Cambridge (https://www.vanderschaar-lab.com/)\"\"\"  \n",
    ")"
   ]
  },
  {
   "cell_type": "code",
   "execution_count": 59,
   "id": "31182720",
   "metadata": {},
   "outputs": [
    {
     "name": "stdout",
     "output_type": "stream",
     "text": [
      "Recorded on Jan 01, 2024 in London, UK.\n",
      "\n",
      "Audio version available on the best podcast platforms: https://causalbanditspodcast.buzzsprout.com\n",
      "\n",
      "*Can we do better in causal AI in 2024?*\n",
      "\n",
      "In this episode we try to answer the question if it's possible to do better in causal AI in 2024.\n",
      "    \n",
      "It turns out this is not an easy question.\n",
      "    \n",
      "Well, this is what it is...\n",
      "    \n",
      "Ready to dive in?\n",
      "\n",
      "------------------------------------------------------------------------------------------------------\n",
      "\n",
      "*About The Guest*\n",
      "\n",
      "John Doe is an avid researcher with unknown past. His main contributions are unknown and he co-authored dozens of unknown publications. And that's ok!\n",
      "\n",
      "Connect with Alicia:\n",
      "- John on Twitter/X: https://twitter.com/AleksanderMolak\n",
      "- John on LinkedIn: https://www.linkedin.com/in/aleksandermolak/\n",
      "- John's web page: https://alxndr.io\n",
      "\n",
      "*About The Host*\n",
      "Aleksander (Alex) Molak is an independent machine learning researcher, educator, entrepreneur and a best-selling author in the area of causality (https://amzn.to/3QhsRz4).\n",
      "\n",
      "Connect with Alex:\n",
      "- Alex on the Internet: https://bit.ly/aleksander-molak\n",
      "\n",
      "Links\n",
      "Books\n",
      "- Molak (2023) - Causal Inference & Discovery in Python (https://amzn.to/3QhsRz4)\n",
      "- Pearl & Mackenzie (2019) - The Book of Why (https://amzn.to/4aC3lhd)\n",
      "- van der Laan & Rose (2011) - Targeted Learning: Causal Inference for Observational and Experimental Data (https://amzn.to/3GYUPv6)\n",
      "\n",
      "Papers\n",
      "- Athey & Imbens (2016) - Recursive partitioning for heterogeneous causal effects (https://www.pnas.org/doi/abs/10.1073/pnas.1510489113)\n",
      "- Curth et al. (2021) - Really Doing Great at Estimating CATE? A Critical Look at ML Benchmarking Practices in Treatment Effect Estimation (https://openreview.net/pdf?id=FQLzQqGEAH)\n",
      "- Curth et al. (2023) - A U-turn on Double Descent: Rethinking Parameter Counting in Statistical Learning (https://arxiv.org/pdf/2310.18988.pdf)\n",
      "\n",
      "Web\n",
      "- The van der Schaar Lab, Cambridge (https://www.vanderschaar-lab.com/)\n",
      "\n",
      "*Causal Bandits Team*\n",
      "Project Coordinator: Taiba Malik (https://www.instagram.com/taibasplay/)\n",
      "Video and Audio Editing: Navneet Sharma, Aleksander Molak\n",
      "\n",
      "*Action*\n",
      "Connect on LinkedIn: https://www.linkedin.com/in/aleksandermolak/\n",
      "Join Causal Python Weekly: https://causalpython.io\n",
      "Causal Bandits: https://causalbanditspodcast.com\n",
      "The Causal Book: https://amzn.to/3QhsRz4\n"
     ]
    }
   ],
   "source": [
    "print(filled)"
   ]
  },
  {
   "cell_type": "code",
   "execution_count": null,
   "id": "35957306",
   "metadata": {},
   "outputs": [],
   "source": []
  }
 ],
 "metadata": {
  "kernelspec": {
   "display_name": "Python 3 (ipykernel)",
   "language": "python",
   "name": "python3"
  },
  "language_info": {
   "codemirror_mode": {
    "name": "ipython",
    "version": 3
   },
   "file_extension": ".py",
   "mimetype": "text/x-python",
   "name": "python",
   "nbconvert_exporter": "python",
   "pygments_lexer": "ipython3",
   "version": "3.9.7"
  }
 },
 "nbformat": 4,
 "nbformat_minor": 5
}
